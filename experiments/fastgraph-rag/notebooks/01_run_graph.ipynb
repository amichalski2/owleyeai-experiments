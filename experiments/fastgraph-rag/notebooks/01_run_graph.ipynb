{
 "cells": [
  {
   "cell_type": "markdown",
   "metadata": {},
   "source": [
    "# Graph RAG Analysis"
   ]
  },
  {
   "cell_type": "code",
   "execution_count": 1,
   "metadata": {},
   "outputs": [],
   "source": [
    "import sys\n",
    "import os\n",
    "sys.path.append('../src')\n",
    "from graph_rag import PromptAnalyzer, jupyter_async\n",
    "\n",
    "os.environ['OPENAI_API_KEY'] = \"sk...\""
   ]
  },
  {
   "cell_type": "markdown",
   "metadata": {},
   "source": [
    "# Initialize analyzer"
   ]
  },
  {
   "cell_type": "code",
   "execution_count": 2,
   "metadata": {},
   "outputs": [],
   "source": [
    "analyzer = PromptAnalyzer(\"../config/config.yaml\")"
   ]
  },
  {
   "cell_type": "markdown",
   "metadata": {},
   "source": [
    "# Insert a document"
   ]
  },
  {
   "cell_type": "code",
   "execution_count": 3,
   "metadata": {},
   "outputs": [
    {
     "name": "stderr",
     "output_type": "stream",
     "text": [
      "Extracting data: 100%|█████████████████████████████████████████████████████████████████████████████████████████████████████████████████████████████████████████| 1/1 [00:09<00:00,  9.21s/it]\n",
      "Building [done]: 100%|█████████████████████████████████████████████████████████████████████████████████████████████████████████████████████████████████████████| 7/7 [00:01<00:00,  6.20it/s]"
     ]
    },
    {
     "name": "stdout",
     "output_type": "stream",
     "text": [
      "Added 10 entities, 8 relations, 1 chunks\n"
     ]
    },
    {
     "name": "stderr",
     "output_type": "stream",
     "text": [
      "\n"
     ]
    }
   ],
   "source": [
    "num_entities, num_relations, num_chunks = jupyter_async(\n",
    "    analyzer.insert_document(\"../data/agents_repo_readme.txt\")\n",
    ")\n",
    "print(f\"Added {num_entities} entities, {num_relations} relations, {num_chunks} chunks\")"
   ]
  },
  {
   "cell_type": "markdown",
   "metadata": {},
   "source": [
    "# Display examples"
   ]
  },
  {
   "cell_type": "code",
   "execution_count": 12,
   "metadata": {},
   "outputs": [
    {
     "name": "stdout",
     "output_type": "stream",
     "text": [
      "The categories of agents related to education include:\n",
      "1. **EDUCATIONAL AGENTS** - Agents designed for educational purposes.\n",
      "2. **AI-POWERED TUTOR** - An intelligent agent that provides educational support and tutoring, which is a type of educational agent.\n"
     ]
    }
   ],
   "source": [
    "result = jupyter_async(analyzer.retrieve(\"What are the categories of agents related to education?\"))\n",
    "print(result.response)"
   ]
  },
  {
   "cell_type": "code",
   "execution_count": 13,
   "metadata": {},
   "outputs": [
    {
     "name": "stdout",
     "output_type": "stream",
     "text": [
      "The categories of agents include:\n",
      "- Business-Oriented Agents: Agents focused on business applications.\n",
      "- Educational Agents: Agents designed for educational purposes.\n",
      "- AI-Powered Tutor: An intelligent agent that provides educational support and tutoring.\n",
      "- Business Analysis Agent: An agent used for performing analysis in business contexts.\n",
      "- Collaborative Agent: An agent that works with other agents to achieve shared goals.\n",
      "- Creative Generation Agent: An agent that generates creative content like art or music.\n",
      "- Conversational Agent: An AI agent designed to communicate with users through text or voice.\n",
      "- Memory-Enhanced Agent: An agent that utilizes memory mechanisms to enhance user interactions.\n",
      "- Multi-Agent System: A type of system that consists of multiple interacting intelligent agents.\n"
     ]
    }
   ],
   "source": [
    "result = jupyter_async(analyzer.retrieve(\"What are the categories of agents?\"))\n",
    "print(result.response)"
   ]
  }
 ],
 "metadata": {
  "kernelspec": {
   "display_name": "Python 3 (ipykernel)",
   "language": "python",
   "name": "python3"
  },
  "language_info": {
   "codemirror_mode": {
    "name": "ipython",
    "version": 3
   },
   "file_extension": ".py",
   "mimetype": "text/x-python",
   "name": "python",
   "nbconvert_exporter": "python",
   "pygments_lexer": "ipython3",
   "version": "3.12.3"
  }
 },
 "nbformat": 4,
 "nbformat_minor": 4
}
